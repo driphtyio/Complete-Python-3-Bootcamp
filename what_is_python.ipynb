{
  "nbformat": 4,
  "nbformat_minor": 0,
  "metadata": {
    "colab": {
      "name": "what is python.ipynb",
      "provenance": [],
      "authorship_tag": "ABX9TyOWxcvu2zzCWch0RqgdIkT8",
      "include_colab_link": true
    },
    "kernelspec": {
      "name": "python3",
      "display_name": "Python 3"
    },
    "language_info": {
      "name": "python"
    }
  },
  "cells": [
    {
      "cell_type": "markdown",
      "metadata": {
        "id": "view-in-github",
        "colab_type": "text"
      },
      "source": [
        "<a href=\"https://colab.research.google.com/github/driphtyio/Complete-Python-3-Bootcamp/blob/master/what_is_python.ipynb\" target=\"_parent\"><img src=\"https://colab.research.google.com/assets/colab-badge.svg\" alt=\"Open In Colab\"/></a>"
      ]
    },
    {
      "cell_type": "code",
      "execution_count": 1,
      "metadata": {
        "colab": {
          "base_uri": "https://localhost:8080/"
        },
        "id": "pOskz9g5OckI",
        "outputId": "55909d00-a936-4100-dfc1-1e167fc65ad3"
      },
      "outputs": [
        {
          "output_type": "stream",
          "name": "stdout",
          "text": [
            "Hi Taylor\n",
            "Hi Alex\n",
            "Hi Pat\n",
            "Hi Eli\n"
          ]
        }
      ],
      "source": [
        "friends = ['Taylor', 'Alex', 'Pat', 'Eli']\n",
        "for friend in friends:\n",
        "    print(\"Hi \" + friend)"
      ]
    }
  ]
}